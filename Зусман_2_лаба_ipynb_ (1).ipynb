{
  "nbformat": 4,
  "nbformat_minor": 0,
  "metadata": {
    "colab": {
      "name": " Зусман 2 лаба.ipynb\"",
      "provenance": []
    },
    "kernelspec": {
      "name": "python3",
      "display_name": "Python 3"
    },
    "language_info": {
      "name": "python"
    }
  },
  "cells": [
    {
      "cell_type": "markdown",
      "source": [
        "**Лабораторная работа 2**\n",
        "\n",
        "по дисциплине \"Технологии аналитической обработки информации\"\n",
        "\n",
        "Выполнил: студент группы КЭ-403 Зусман Михаил Дмитриевич\n",
        "\n",
        "---\n",
        "В данной работе используются следующие датасеты:\n",
        "\n",
        "http://fimi.uantwerpen.be/data/retail.dat\n",
        "\n",
        "http://fimi.uantwerpen.be/data/kosarak.dat\n",
        "\n",
        "Github:"
      ],
      "metadata": {
        "id": "VHLOwEfymb6o"
      }
    },
    {
      "cell_type": "markdown",
      "source": [
        "Устанавливаем пакет Apyori для использования Association Mining Apriori алгоритма.И подключаем необходимые библиотеки.\n",
        "\n",
        "\n"
      ],
      "metadata": {
        "id": "yd78JFXnq14e"
      }
    },
    {
      "cell_type": "code",
      "execution_count": 3,
      "metadata": {
        "colab": {
          "base_uri": "https://localhost:8080/"
        },
        "id": "yg4Hoe3gjuJG",
        "outputId": "d36ef021-77eb-45bf-cedb-0f644ee47e0b"
      },
      "outputs": [
        {
          "output_type": "stream",
          "name": "stdout",
          "text": [
            "Collecting apyori\n",
            "  Downloading apyori-1.1.2.tar.gz (8.6 kB)\n",
            "Building wheels for collected packages: apyori\n",
            "  Building wheel for apyori (setup.py) ... \u001b[?25l\u001b[?25hdone\n",
            "  Created wheel for apyori: filename=apyori-1.1.2-py3-none-any.whl size=5974 sha256=93fa3b7204e53e3798aeb570429866d24d5571ae36d23e0e972023c153579015\n",
            "  Stored in directory: /root/.cache/pip/wheels/cb/f6/e1/57973c631d27efd1a2f375bd6a83b2a616c4021f24aab84080\n",
            "Successfully built apyori\n",
            "Installing collected packages: apyori\n",
            "Successfully installed apyori-1.1.2\n"
          ]
        }
      ],
      "source": [
        "!pip install apyori  \n",
        "import pandas as pd\n",
        "from apyori import apriori\n",
        "import time\n",
        "import matplotlib.pyplot as plt"
      ]
    },
    {
      "cell_type": "code",
      "source": [
        "# Подключаем google-диск\n",
        "from google.colab import drive\n",
        "drive.mount('/content/drive')"
      ],
      "metadata": {
        "colab": {
          "base_uri": "https://localhost:8080/"
        },
        "id": "EWSiICe5kNlX",
        "outputId": "2aee37f7-4049-424c-8a29-5578365d53e4"
      },
      "execution_count": 2,
      "outputs": [
        {
          "output_type": "stream",
          "name": "stdout",
          "text": [
            "Mounted at /content/drive\n"
          ]
        }
      ]
    },
    {
      "cell_type": "markdown",
      "source": [
        "Задаем промежуток уровней достоверности."
      ],
      "metadata": {
        "id": "hevt8nYgrEFS"
      }
    },
    {
      "cell_type": "code",
      "source": [
        "min_conf=[]\n",
        "for i in range(40, 95, 5):\n",
        "    min_conf.append(i/100)\n",
        "\n",
        "print(min_conf)"
      ],
      "metadata": {
        "colab": {
          "base_uri": "https://localhost:8080/"
        },
        "id": "M8IOLid9wfWg",
        "outputId": "40b1bd22-3b60-4353-f5a8-058194f84016"
      },
      "execution_count": 12,
      "outputs": [
        {
          "output_type": "stream",
          "name": "stdout",
          "text": [
            "[0.4, 0.45, 0.5, 0.55, 0.6, 0.65, 0.7, 0.75, 0.8, 0.85, 0.9]\n"
          ]
        }
      ]
    },
    {
      "cell_type": "markdown",
      "source": [
        "Описываем общие функции."
      ],
      "metadata": {
        "id": "Srpqz6lKrN1W"
      }
    },
    {
      "cell_type": "code",
      "source": [
        "#функция сортировки по достоверности\n",
        "def sort_conf(association_results):\n",
        "  for i in range(len(association_results)-1):\n",
        "    for j in range(0,len(association_results)-i-1):\n",
        "      if association_results[j][2][0][2] < association_results[j+1][2][0][2] : \n",
        "        association_results[j], association_results[j+1] = association_results[j+1], association_results[j] \n",
        "  return association_results\n"
      ],
      "metadata": {
        "id": "5CI2I6JuoF8K"
      },
      "execution_count": 33,
      "outputs": []
    },
    {
      "cell_type": "code",
      "source": [
        "def print_results(association_results):\n",
        "\n",
        "  for item in association_results:\n",
        "    \n",
        "    pair = item[0] \n",
        "    items = [x for x in pair]\n",
        "\n",
        "    # Ассоциативное правило\n",
        "    print(\"Rule: \" + str(items))\n",
        "    \n",
        "    #\n",
        "    base=[x for x in item[2][0][0]]\n",
        "    print(\"Base\" + str(base))\n",
        "    add=[x for x in item[2][0][1]]\n",
        "    print(\"Add: \" + str(add))\n",
        "\n",
        "    #Значение поддержки\n",
        "    print(\"Support: \" + str(item[1]))\n",
        "\n",
        "    #Confidence и Lift\n",
        "    print(\"Confidence: \" + str(item[2][0][2]))\n",
        "    print(\"Lift: \" + str(item[2][0][3]))\n",
        "    print(\"=====================================\")"
      ],
      "metadata": {
        "id": "zjeFhHHHoNr7"
      },
      "execution_count": 88,
      "outputs": []
    },
    {
      "cell_type": "markdown",
      "source": [
        "# Работа с датасетом reatail.dat\n"
      ],
      "metadata": {
        "id": "s2A4ny0lnvGe"
      }
    },
    {
      "cell_type": "code",
      "source": [
        "retailDatContent = [i.strip().split() for i in open('/content/drive/MyDrive/Colab Notebooks/retail.dat').readlines()]\n"
      ],
      "metadata": {
        "id": "-qae5UFWWU5H"
      },
      "execution_count": 15,
      "outputs": []
    },
    {
      "cell_type": "code",
      "source": [
        "print(retailDatContent[0])"
      ],
      "metadata": {
        "colab": {
          "base_uri": "https://localhost:8080/"
        },
        "id": "kAZtegwaWZ8R",
        "outputId": "bc653bb2-73f6-4c99-e3c2-7b5b5f4c51eb"
      },
      "execution_count": 16,
      "outputs": [
        {
          "output_type": "stream",
          "name": "stdout",
          "text": [
            "['0', '1', '2', '3', '4', '5', '6', '7', '8', '9', '10', '11', '12', '13', '14', '15', '16', '17', '18', '19', '20', '21', '22', '23', '24', '25', '26', '27', '28', '29']\n"
          ]
        }
      ]
    },
    {
      "cell_type": "code",
      "source": [
        "transactions = retailDatContent"
      ],
      "metadata": {
        "id": "bmnksufYVtBy"
      },
      "execution_count": null,
      "outputs": []
    },
    {
      "cell_type": "markdown",
      "source": [
        "Запустим алгоритм Apriori для набора данных с разным уровнем достоверности."
      ],
      "metadata": {
        "id": "SotzVxGvrZYV"
      }
    },
    {
      "cell_type": "code",
      "source": [
        "time_retail =[]\n",
        "list_result_retail=[]\n",
        "\n",
        "for i in min_conf:\n",
        "    start=time.perf_counter()\n",
        "    list_result_retail.append(list( apriori(retailDatContent, min_support=0.1, min_confidence=i, min_lift=1)))\n",
        "    end=time.perf_counter()\n",
        "    time_r = end -start\n",
        "    time_retail.append(time_r)"
      ],
      "metadata": {
        "id": "qbv__856Kmld"
      },
      "execution_count": 42,
      "outputs": []
    },
    {
      "cell_type": "markdown",
      "source": [
        "Выведем количество ассоциативных правил, полученных в результате работы алгоритма, при разных пороговых значениях достоверности."
      ],
      "metadata": {
        "id": "8sD2tnwbrldg"
      }
    },
    {
      "cell_type": "code",
      "source": [
        "list_count_of_rules_retail=[]\n",
        "for j in range(len(min_conf)):\n",
        "  print('Count of rules(min_support='+str( min_conf[j])+'): '+str(len(list_result_retail[j]))+'\\n')\n",
        "  list_count_of_rules_retail.append(len(list_result_retail[j]))\n"
      ],
      "metadata": {
        "colab": {
          "base_uri": "https://localhost:8080/"
        },
        "id": "0A5PDNkCmrdK",
        "outputId": "80c0ce74-209d-441f-8d0e-e78dcd81061e"
      },
      "execution_count": 43,
      "outputs": [
        {
          "output_type": "stream",
          "name": "stdout",
          "text": [
            "Count of rules(min_support=0.4): 6\n",
            "\n",
            "Count of rules(min_support=0.45): 6\n",
            "\n",
            "Count of rules(min_support=0.5): 5\n",
            "\n",
            "Count of rules(min_support=0.55): 5\n",
            "\n",
            "Count of rules(min_support=0.6): 4\n",
            "\n",
            "Count of rules(min_support=0.65): 3\n",
            "\n",
            "Count of rules(min_support=0.7): 1\n",
            "\n",
            "Count of rules(min_support=0.75): 1\n",
            "\n",
            "Count of rules(min_support=0.8): 0\n",
            "\n",
            "Count of rules(min_support=0.85): 0\n",
            "\n",
            "Count of rules(min_support=0.9): 0\n",
            "\n"
          ]
        }
      ]
    },
    {
      "cell_type": "markdown",
      "source": [
        "Полученные результаты отсортируем по достоверности в порядке убывания значений."
      ],
      "metadata": {
        "id": "wNaCzHFaruNl"
      }
    },
    {
      "cell_type": "code",
      "source": [
        "list_print_result=[]\n",
        "\n",
        "for k in range(len(min_conf)):\n",
        "  print(\"min Confidence: \"+str(min_conf[k])+\"______________________________________________________________________________________________________________________\\n\")\n",
        "  print_results(sort_conf(list_result_retail[k]))"
      ],
      "metadata": {
        "id": "OdE1rSzYmtlG",
        "colab": {
          "base_uri": "https://localhost:8080/"
        },
        "outputId": "b6d7e51a-732c-480e-e680-83c2a3802f0b"
      },
      "execution_count": 89,
      "outputs": [
        {
          "output_type": "stream",
          "name": "stdout",
          "text": [
            "min support: 0.4______________________________________________________________________________________________________________________\n",
            "\n",
            "Rule: ['39', '41']\n",
            "Base['41']\n",
            "Add: ['39']\n",
            "Support: 0.12946620993171662\n",
            "Confidence: 0.7637336901973905\n",
            "Lift: 1.3287082307880087\n",
            "=====================================\n",
            "Rule: ['39', '38']\n",
            "Base['38']\n",
            "Add: ['39']\n",
            "Support: 0.1173408044282117\n",
            "Confidence: 0.663311105411644\n",
            "Lift: 1.15399770449534\n",
            "=====================================\n",
            "Rule: ['48', '41']\n",
            "Base['41']\n",
            "Add: ['48']\n",
            "Support: 0.10228896803611533\n",
            "Confidence: 0.6034125125460019\n",
            "Lift: 1.2625620963825945\n",
            "=====================================\n",
            "Rule: ['48', '39']\n",
            "Base['39']\n",
            "Add: ['48']\n",
            "Support: 0.33055057734624893\n",
            "Confidence: 0.5750764676862358\n",
            "Lift: 1.2032726128908013\n",
            "=====================================\n",
            "Rule: ['39']\n",
            "Base[]\n",
            "Add: ['39']\n",
            "Support: 0.5747941289898142\n",
            "Confidence: 0.5747941289898142\n",
            "Lift: 1.0\n",
            "=====================================\n",
            "Rule: ['48']\n",
            "Base[]\n",
            "Add: ['48']\n",
            "Support: 0.47792699802636057\n",
            "Confidence: 0.47792699802636057\n",
            "Lift: 1.0\n",
            "=====================================\n",
            "min support: 0.45______________________________________________________________________________________________________________________\n",
            "\n",
            "Rule: ['39', '41']\n",
            "Base['41']\n",
            "Add: ['39']\n",
            "Support: 0.12946620993171662\n",
            "Confidence: 0.7637336901973905\n",
            "Lift: 1.3287082307880087\n",
            "=====================================\n",
            "Rule: ['39', '38']\n",
            "Base['38']\n",
            "Add: ['39']\n",
            "Support: 0.1173408044282117\n",
            "Confidence: 0.663311105411644\n",
            "Lift: 1.15399770449534\n",
            "=====================================\n",
            "Rule: ['48', '41']\n",
            "Base['41']\n",
            "Add: ['48']\n",
            "Support: 0.10228896803611533\n",
            "Confidence: 0.6034125125460019\n",
            "Lift: 1.2625620963825945\n",
            "=====================================\n",
            "Rule: ['48', '39']\n",
            "Base['39']\n",
            "Add: ['48']\n",
            "Support: 0.33055057734624893\n",
            "Confidence: 0.5750764676862358\n",
            "Lift: 1.2032726128908013\n",
            "=====================================\n",
            "Rule: ['39']\n",
            "Base[]\n",
            "Add: ['39']\n",
            "Support: 0.5747941289898142\n",
            "Confidence: 0.5747941289898142\n",
            "Lift: 1.0\n",
            "=====================================\n",
            "Rule: ['48']\n",
            "Base[]\n",
            "Add: ['48']\n",
            "Support: 0.47792699802636057\n",
            "Confidence: 0.47792699802636057\n",
            "Lift: 1.0\n",
            "=====================================\n",
            "min support: 0.5______________________________________________________________________________________________________________________\n",
            "\n",
            "Rule: ['39', '41']\n",
            "Base['41']\n",
            "Add: ['39']\n",
            "Support: 0.12946620993171662\n",
            "Confidence: 0.7637336901973905\n",
            "Lift: 1.3287082307880087\n",
            "=====================================\n",
            "Rule: ['39', '38']\n",
            "Base['38']\n",
            "Add: ['39']\n",
            "Support: 0.1173408044282117\n",
            "Confidence: 0.663311105411644\n",
            "Lift: 1.15399770449534\n",
            "=====================================\n",
            "Rule: ['48', '41']\n",
            "Base['41']\n",
            "Add: ['48']\n",
            "Support: 0.10228896803611533\n",
            "Confidence: 0.6034125125460019\n",
            "Lift: 1.2625620963825945\n",
            "=====================================\n",
            "Rule: ['48', '39']\n",
            "Base['39']\n",
            "Add: ['48']\n",
            "Support: 0.33055057734624893\n",
            "Confidence: 0.5750764676862358\n",
            "Lift: 1.2032726128908013\n",
            "=====================================\n",
            "Rule: ['39']\n",
            "Base[]\n",
            "Add: ['39']\n",
            "Support: 0.5747941289898142\n",
            "Confidence: 0.5747941289898142\n",
            "Lift: 1.0\n",
            "=====================================\n",
            "min support: 0.55______________________________________________________________________________________________________________________\n",
            "\n",
            "Rule: ['39', '41']\n",
            "Base['41']\n",
            "Add: ['39']\n",
            "Support: 0.12946620993171662\n",
            "Confidence: 0.7637336901973905\n",
            "Lift: 1.3287082307880087\n",
            "=====================================\n",
            "Rule: ['39', '38']\n",
            "Base['38']\n",
            "Add: ['39']\n",
            "Support: 0.1173408044282117\n",
            "Confidence: 0.663311105411644\n",
            "Lift: 1.15399770449534\n",
            "=====================================\n",
            "Rule: ['48', '41']\n",
            "Base['41']\n",
            "Add: ['48']\n",
            "Support: 0.10228896803611533\n",
            "Confidence: 0.6034125125460019\n",
            "Lift: 1.2625620963825945\n",
            "=====================================\n",
            "Rule: ['48', '39']\n",
            "Base['39']\n",
            "Add: ['48']\n",
            "Support: 0.33055057734624893\n",
            "Confidence: 0.5750764676862358\n",
            "Lift: 1.2032726128908013\n",
            "=====================================\n",
            "Rule: ['39']\n",
            "Base[]\n",
            "Add: ['39']\n",
            "Support: 0.5747941289898142\n",
            "Confidence: 0.5747941289898142\n",
            "Lift: 1.0\n",
            "=====================================\n",
            "min support: 0.6______________________________________________________________________________________________________________________\n",
            "\n",
            "Rule: ['39', '41']\n",
            "Base['41']\n",
            "Add: ['39']\n",
            "Support: 0.12946620993171662\n",
            "Confidence: 0.7637336901973905\n",
            "Lift: 1.3287082307880087\n",
            "=====================================\n",
            "Rule: ['48', '39']\n",
            "Base['48']\n",
            "Add: ['39']\n",
            "Support: 0.33055057734624893\n",
            "Confidence: 0.6916340334638661\n",
            "Lift: 1.2032726128908016\n",
            "=====================================\n",
            "Rule: ['39', '38']\n",
            "Base['38']\n",
            "Add: ['39']\n",
            "Support: 0.1173408044282117\n",
            "Confidence: 0.663311105411644\n",
            "Lift: 1.15399770449534\n",
            "=====================================\n",
            "Rule: ['48', '41']\n",
            "Base['41']\n",
            "Add: ['48']\n",
            "Support: 0.10228896803611533\n",
            "Confidence: 0.6034125125460019\n",
            "Lift: 1.2625620963825945\n",
            "=====================================\n",
            "min support: 0.65______________________________________________________________________________________________________________________\n",
            "\n",
            "Rule: ['39', '41']\n",
            "Base['41']\n",
            "Add: ['39']\n",
            "Support: 0.12946620993171662\n",
            "Confidence: 0.7637336901973905\n",
            "Lift: 1.3287082307880087\n",
            "=====================================\n",
            "Rule: ['48', '39']\n",
            "Base['48']\n",
            "Add: ['39']\n",
            "Support: 0.33055057734624893\n",
            "Confidence: 0.6916340334638661\n",
            "Lift: 1.2032726128908016\n",
            "=====================================\n",
            "Rule: ['39', '38']\n",
            "Base['38']\n",
            "Add: ['39']\n",
            "Support: 0.1173408044282117\n",
            "Confidence: 0.663311105411644\n",
            "Lift: 1.15399770449534\n",
            "=====================================\n",
            "min support: 0.7______________________________________________________________________________________________________________________\n",
            "\n",
            "Rule: ['39', '41']\n",
            "Base['41']\n",
            "Add: ['39']\n",
            "Support: 0.12946620993171662\n",
            "Confidence: 0.7637336901973905\n",
            "Lift: 1.3287082307880087\n",
            "=====================================\n",
            "min support: 0.75______________________________________________________________________________________________________________________\n",
            "\n",
            "Rule: ['39', '41']\n",
            "Base['41']\n",
            "Add: ['39']\n",
            "Support: 0.12946620993171662\n",
            "Confidence: 0.7637336901973905\n",
            "Lift: 1.3287082307880087\n",
            "=====================================\n",
            "min support: 0.8______________________________________________________________________________________________________________________\n",
            "\n",
            "min support: 0.85______________________________________________________________________________________________________________________\n",
            "\n",
            "min support: 0.9______________________________________________________________________________________________________________________\n",
            "\n"
          ]
        }
      ]
    },
    {
      "cell_type": "markdown",
      "source": [
        "Построение графика зависимости быстродействия от минимильной Достоверности."
      ],
      "metadata": {
        "id": "rlAh6JHhrypN"
      }
    },
    {
      "cell_type": "code",
      "source": [
        "fig, ax = plt.subplots()\n",
        "ax.plot(min_conf,time_retail)\n",
        "ax.set(xlabel='min_conf', ylabel='time_retail(s)')\n",
        "plt.show()"
      ],
      "metadata": {
        "colab": {
          "base_uri": "https://localhost:8080/",
          "height": 282
        },
        "id": "iowvHhA1K33X",
        "outputId": "b89165de-1e77-4f47-9bfb-585c7b6e36cf"
      },
      "execution_count": 45,
      "outputs": [
        {
          "output_type": "display_data",
          "data": {
            "image/png": "[encoded data removed]",
            "text/plain": [
              "<Figure size 432x288 with 1 Axes>"
            ]
          },
          "metadata": {
            "needs_background": "light"
          }
        }
      ]
    },
    {
      "cell_type": "markdown",
      "source": [
        "Построение графика зависимости количества наборов от минимильной достоверности."
      ],
      "metadata": {
        "id": "zwDSVoB7r4yn"
      }
    },
    {
      "cell_type": "code",
      "source": [
        "fig, ax = plt.subplots()\n",
        "ax.plot(min_conf, list_count_of_rules_retail)\n",
        "ax.set(xlabel='min_con', ylabel=' count_of_rules_retail')\n",
        "plt.show()"
      ],
      "metadata": {
        "colab": {
          "base_uri": "https://localhost:8080/",
          "height": 280
        },
        "id": "SEKsrX_ZK4n_",
        "outputId": "3bf5e804-370a-4990-f41e-42a95d3b5ac8"
      },
      "execution_count": 46,
      "outputs": [
        {
          "output_type": "display_data",
          "data": {
            "image/png": "[encoded data removed]",
            "text/plain": [
              "<Figure size 432x288 with 1 Axes>"
            ]
          },
          "metadata": {
            "needs_background": "light"
          }
        }
      ]
    },
    {
      "cell_type": "markdown",
      "source": [
        "# Работа с датасетом kosarak.dat"
      ],
      "metadata": {
        "id": "fNActXx4n5Cl"
      }
    },
    {
      "cell_type": "code",
      "source": [
        "kosarakDatContent = [i.strip().split() for i in open('/content/drive/MyDrive/Colab Notebooks/kosarak.dat').readlines()]"
      ],
      "metadata": {
        "id": "pK6yrnHrmIOV"
      },
      "execution_count": 47,
      "outputs": []
    },
    {
      "cell_type": "code",
      "source": [
        "print(kosarakDatContent[0])"
      ],
      "metadata": {
        "colab": {
          "base_uri": "https://localhost:8080/"
        },
        "id": "dTcqC9wBmL9Q",
        "outputId": "4b219e80-7d15-490c-c5c7-384ec3f6811c"
      },
      "execution_count": 48,
      "outputs": [
        {
          "output_type": "stream",
          "name": "stdout",
          "text": [
            "['1', '2', '3']\n"
          ]
        }
      ]
    },
    {
      "cell_type": "markdown",
      "source": [
        "Запустим алгоритм Apriori для набора данных с разным уровнем достоверности."
      ],
      "metadata": {
        "id": "qQ5t78URsPRO"
      }
    },
    {
      "cell_type": "code",
      "source": [
        "time_kosarak =[]\n",
        "\n",
        "list_result_kosarak=[]\n",
        "\n",
        "for i in min_conf:\n",
        "    start=time.perf_counter()\n",
        "    list_result_kosarak.append(list( apriori(kosarakDatContent, min_support=0.1, min_confidence=i, min_lift=1)))\n",
        "    end=time.perf_counter()\n",
        "    time_r = end -start\n",
        "    time_kosarak.append(time_r)"
      ],
      "metadata": {
        "id": "xB-fn0pRoain"
      },
      "execution_count": 51,
      "outputs": []
    },
    {
      "cell_type": "markdown",
      "source": [
        "Выведем количество ассоциативных правил, полученных в результате работы алгоритма,при разных пороговых значениях поддержки."
      ],
      "metadata": {
        "id": "rCkZBfERsVpR"
      }
    },
    {
      "cell_type": "code",
      "source": [
        "list_count_of_rules_kosarak=[]\n",
        "for j in range(len(min_conf)):\n",
        "  print('Count of rules(min_support='+str( min_conf[j])+'): '+str(len(list_result_kosarak[j]))+'\\n')\n",
        "  list_count_of_rules_kosarak.append(len(list_result_kosarak[j]))\n"
      ],
      "metadata": {
        "colab": {
          "base_uri": "https://localhost:8080/"
        },
        "id": "xThEhffqovs5",
        "outputId": "b7089d65-fecf-4daf-f835-307a47fd9632"
      },
      "execution_count": 52,
      "outputs": [
        {
          "output_type": "stream",
          "name": "stdout",
          "text": [
            "Count of rules(min_support=0.4): 5\n",
            "\n",
            "Count of rules(min_support=0.45): 5\n",
            "\n",
            "Count of rules(min_support=0.5): 4\n",
            "\n",
            "Count of rules(min_support=0.55): 4\n",
            "\n",
            "Count of rules(min_support=0.6): 4\n",
            "\n",
            "Count of rules(min_support=0.65): 3\n",
            "\n",
            "Count of rules(min_support=0.7): 2\n",
            "\n",
            "Count of rules(min_support=0.75): 2\n",
            "\n",
            "Count of rules(min_support=0.8): 2\n",
            "\n",
            "Count of rules(min_support=0.85): 2\n",
            "\n",
            "Count of rules(min_support=0.9): 0\n",
            "\n"
          ]
        }
      ]
    },
    {
      "cell_type": "markdown",
      "source": [
        "Полученные результаты отсортируем по достоверности в порядке убывания значений."
      ],
      "metadata": {
        "id": "_5QNvXbIsa4U"
      }
    },
    {
      "cell_type": "code",
      "source": [
        "list_print_result=[]\n",
        "\n",
        "for k in range(len(min_conf)):\n",
        "  print(\"min  Confidence: \"+str(min_conf[k])+\"______________________________________________________________________________________________________________________\\n\")\n",
        "  print_results(sort_conf(list_result_kosarak[k]))\n",
        "\n"
      ],
      "metadata": {
        "id": "P0KBh8qYo1se",
        "colab": {
          "base_uri": "https://localhost:8080/"
        },
        "outputId": "a9b0f0db-3f03-4548-b5d7-cd85231cc6bf"
      },
      "execution_count": 90,
      "outputs": [
        {
          "output_type": "stream",
          "name": "stdout",
          "text": [
            "min  Confidence: 0.4______________________________________________________________________________________________________________________\n",
            "\n",
            "Rule: ['3', '6', '11']\n",
            "Base['3', '11']\n",
            "Add: ['6']\n",
            "Support: 0.14513304013527245\n",
            "Confidence: 0.8908522748409657\n",
            "Lift: 1.466550821613681\n",
            "=====================================\n",
            "Rule: ['6', '11']\n",
            "Base['11']\n",
            "Add: ['6']\n",
            "Support: 0.3272851974036416\n",
            "Confidence: 0.889986678203068\n",
            "Lift: 1.4651258474666244\n",
            "=====================================\n",
            "Rule: ['6', '1']\n",
            "Base['1']\n",
            "Add: ['6']\n",
            "Support: 0.1334472051571613\n",
            "Confidence: 0.668852077236966\n",
            "Lift: 1.1010866684771057\n",
            "=====================================\n",
            "Rule: ['6']\n",
            "Base[]\n",
            "Add: ['6']\n",
            "Support: 0.6074472576823077\n",
            "Confidence: 0.6074472576823077\n",
            "Lift: 1.0\n",
            "=====================================\n",
            "Rule: ['3']\n",
            "Base[]\n",
            "Add: ['3']\n",
            "Support: 0.4545758493417185\n",
            "Confidence: 0.4545758493417185\n",
            "Lift: 1.0\n",
            "=====================================\n",
            "min  Confidence: 0.45______________________________________________________________________________________________________________________\n",
            "\n",
            "Rule: ['3', '6', '11']\n",
            "Base['3', '11']\n",
            "Add: ['6']\n",
            "Support: 0.14513304013527245\n",
            "Confidence: 0.8908522748409657\n",
            "Lift: 1.466550821613681\n",
            "=====================================\n",
            "Rule: ['6', '11']\n",
            "Base['11']\n",
            "Add: ['6']\n",
            "Support: 0.3272851974036416\n",
            "Confidence: 0.889986678203068\n",
            "Lift: 1.4651258474666244\n",
            "=====================================\n",
            "Rule: ['6', '1']\n",
            "Base['1']\n",
            "Add: ['6']\n",
            "Support: 0.1334472051571613\n",
            "Confidence: 0.668852077236966\n",
            "Lift: 1.1010866684771057\n",
            "=====================================\n",
            "Rule: ['6']\n",
            "Base[]\n",
            "Add: ['6']\n",
            "Support: 0.6074472576823077\n",
            "Confidence: 0.6074472576823077\n",
            "Lift: 1.0\n",
            "=====================================\n",
            "Rule: ['3']\n",
            "Base[]\n",
            "Add: ['3']\n",
            "Support: 0.4545758493417185\n",
            "Confidence: 0.4545758493417185\n",
            "Lift: 1.0\n",
            "=====================================\n",
            "min  Confidence: 0.5______________________________________________________________________________________________________________________\n",
            "\n",
            "Rule: ['3', '6', '11']\n",
            "Base['3', '11']\n",
            "Add: ['6']\n",
            "Support: 0.14513304013527245\n",
            "Confidence: 0.8908522748409657\n",
            "Lift: 1.466550821613681\n",
            "=====================================\n",
            "Rule: ['6', '11']\n",
            "Base['11']\n",
            "Add: ['6']\n",
            "Support: 0.3272851974036416\n",
            "Confidence: 0.889986678203068\n",
            "Lift: 1.4651258474666244\n",
            "=====================================\n",
            "Rule: ['6', '1']\n",
            "Base['1']\n",
            "Add: ['6']\n",
            "Support: 0.1334472051571613\n",
            "Confidence: 0.668852077236966\n",
            "Lift: 1.1010866684771057\n",
            "=====================================\n",
            "Rule: ['6']\n",
            "Base[]\n",
            "Add: ['6']\n",
            "Support: 0.6074472576823077\n",
            "Confidence: 0.6074472576823077\n",
            "Lift: 1.0\n",
            "=====================================\n",
            "min  Confidence: 0.55______________________________________________________________________________________________________________________\n",
            "\n",
            "Rule: ['3', '6', '11']\n",
            "Base['3', '11']\n",
            "Add: ['6']\n",
            "Support: 0.14513304013527245\n",
            "Confidence: 0.8908522748409657\n",
            "Lift: 1.466550821613681\n",
            "=====================================\n",
            "Rule: ['6', '11']\n",
            "Base['11']\n",
            "Add: ['6']\n",
            "Support: 0.3272851974036416\n",
            "Confidence: 0.889986678203068\n",
            "Lift: 1.4651258474666244\n",
            "=====================================\n",
            "Rule: ['6', '1']\n",
            "Base['1']\n",
            "Add: ['6']\n",
            "Support: 0.1334472051571613\n",
            "Confidence: 0.668852077236966\n",
            "Lift: 1.1010866684771057\n",
            "=====================================\n",
            "Rule: ['6']\n",
            "Base[]\n",
            "Add: ['6']\n",
            "Support: 0.6074472576823077\n",
            "Confidence: 0.6074472576823077\n",
            "Lift: 1.0\n",
            "=====================================\n",
            "min  Confidence: 0.6______________________________________________________________________________________________________________________\n",
            "\n",
            "Rule: ['3', '6', '11']\n",
            "Base['3', '11']\n",
            "Add: ['6']\n",
            "Support: 0.14513304013527245\n",
            "Confidence: 0.8908522748409657\n",
            "Lift: 1.466550821613681\n",
            "=====================================\n",
            "Rule: ['6', '11']\n",
            "Base['11']\n",
            "Add: ['6']\n",
            "Support: 0.3272851974036416\n",
            "Confidence: 0.889986678203068\n",
            "Lift: 1.4651258474666244\n",
            "=====================================\n",
            "Rule: ['6', '1']\n",
            "Base['1']\n",
            "Add: ['6']\n",
            "Support: 0.1334472051571613\n",
            "Confidence: 0.668852077236966\n",
            "Lift: 1.1010866684771057\n",
            "=====================================\n",
            "Rule: ['6']\n",
            "Base[]\n",
            "Add: ['6']\n",
            "Support: 0.6074472576823077\n",
            "Confidence: 0.6074472576823077\n",
            "Lift: 1.0\n",
            "=====================================\n",
            "min  Confidence: 0.65______________________________________________________________________________________________________________________\n",
            "\n",
            "Rule: ['3', '6', '11']\n",
            "Base['3', '11']\n",
            "Add: ['6']\n",
            "Support: 0.14513304013527245\n",
            "Confidence: 0.8908522748409657\n",
            "Lift: 1.466550821613681\n",
            "=====================================\n",
            "Rule: ['6', '11']\n",
            "Base['11']\n",
            "Add: ['6']\n",
            "Support: 0.3272851974036416\n",
            "Confidence: 0.889986678203068\n",
            "Lift: 1.4651258474666244\n",
            "=====================================\n",
            "Rule: ['6', '1']\n",
            "Base['1']\n",
            "Add: ['6']\n",
            "Support: 0.1334472051571613\n",
            "Confidence: 0.668852077236966\n",
            "Lift: 1.1010866684771057\n",
            "=====================================\n",
            "min  Confidence: 0.7______________________________________________________________________________________________________________________\n",
            "\n",
            "Rule: ['3', '6', '11']\n",
            "Base['3', '11']\n",
            "Add: ['6']\n",
            "Support: 0.14513304013527245\n",
            "Confidence: 0.8908522748409657\n",
            "Lift: 1.466550821613681\n",
            "=====================================\n",
            "Rule: ['6', '11']\n",
            "Base['11']\n",
            "Add: ['6']\n",
            "Support: 0.3272851974036416\n",
            "Confidence: 0.889986678203068\n",
            "Lift: 1.4651258474666244\n",
            "=====================================\n",
            "min  Confidence: 0.75______________________________________________________________________________________________________________________\n",
            "\n",
            "Rule: ['3', '6', '11']\n",
            "Base['3', '11']\n",
            "Add: ['6']\n",
            "Support: 0.14513304013527245\n",
            "Confidence: 0.8908522748409657\n",
            "Lift: 1.466550821613681\n",
            "=====================================\n",
            "Rule: ['6', '11']\n",
            "Base['11']\n",
            "Add: ['6']\n",
            "Support: 0.3272851974036416\n",
            "Confidence: 0.889986678203068\n",
            "Lift: 1.4651258474666244\n",
            "=====================================\n",
            "min  Confidence: 0.8______________________________________________________________________________________________________________________\n",
            "\n",
            "Rule: ['3', '6', '11']\n",
            "Base['3', '11']\n",
            "Add: ['6']\n",
            "Support: 0.14513304013527245\n",
            "Confidence: 0.8908522748409657\n",
            "Lift: 1.466550821613681\n",
            "=====================================\n",
            "Rule: ['6', '11']\n",
            "Base['11']\n",
            "Add: ['6']\n",
            "Support: 0.3272851974036416\n",
            "Confidence: 0.889986678203068\n",
            "Lift: 1.4651258474666244\n",
            "=====================================\n",
            "min  Confidence: 0.85______________________________________________________________________________________________________________________\n",
            "\n",
            "Rule: ['3', '6', '11']\n",
            "Base['3', '11']\n",
            "Add: ['6']\n",
            "Support: 0.14513304013527245\n",
            "Confidence: 0.8908522748409657\n",
            "Lift: 1.466550821613681\n",
            "=====================================\n",
            "Rule: ['6', '11']\n",
            "Base['11']\n",
            "Add: ['6']\n",
            "Support: 0.3272851974036416\n",
            "Confidence: 0.889986678203068\n",
            "Lift: 1.4651258474666244\n",
            "=====================================\n",
            "min  Confidence: 0.9______________________________________________________________________________________________________________________\n",
            "\n"
          ]
        }
      ]
    },
    {
      "cell_type": "markdown",
      "source": [
        "Построение графика зависимости быстродействия от минимильной достоверности."
      ],
      "metadata": {
        "id": "l34uLUg4si4c"
      }
    },
    {
      "cell_type": "code",
      "source": [
        "fig, ax = plt.subplots()\n",
        "ax.plot(min_conf,time_kosarak)\n",
        "ax.set(xlabel='min_conf', ylabel='time_kosarak(s)')\n",
        "plt.show()"
      ],
      "metadata": {
        "colab": {
          "base_uri": "https://localhost:8080/",
          "height": 281
        },
        "id": "1Dg8GazmiRnd",
        "outputId": "d868275a-9441-4b69-8a6e-821b3fb60fe5"
      },
      "execution_count": 54,
      "outputs": [
        {
          "output_type": "display_data",
          "data": {
            "image/png": "[encoded data removed]",
            "text/plain": [
              "<Figure size 432x288 with 1 Axes>"
            ]
          },
          "metadata": {
            "needs_background": "light"
          }
        }
      ]
    },
    {
      "cell_type": "markdown",
      "source": [
        "Построение графика зависимости количества наборов от минимильной достоверности."
      ],
      "metadata": {
        "id": "a6YZYPQMsl3y"
      }
    },
    {
      "cell_type": "code",
      "source": [
        "fig, ax = plt.subplots()\n",
        "ax.plot(min_conf, list_count_of_rules_kosarak)\n",
        "ax.set(xlabel='min_conf', ylabel=' count_of_rules_kosarak')\n",
        "plt.show()"
      ],
      "metadata": {
        "colab": {
          "base_uri": "https://localhost:8080/",
          "height": 280
        },
        "id": "za3yWfATpZSU",
        "outputId": "a9eca249-1ed8-4a60-fcfd-798de010c8fd"
      },
      "execution_count": 55,
      "outputs": [
        {
          "output_type": "display_data",
          "data": {
            "image/png": "[encoded data removed]",
            "text/plain": [
              "<Figure size 432x288 with 1 Axes>"
            ]
          },
          "metadata": {
            "needs_background": "light"
          }
        }
      ]
    },
    {
      "cell_type": "markdown",
      "source": [
        "Вывод: среди датасетов самые высокие уровни поддерки наблюдаются у правил retail - ['39', '41'], kosarak - ['3', '6', '11']  и ['6', '11']. Также анализируя графики полученные в ходе лабараторной работы можно сказать, что быстродействие на заданных параметра не зависит от уровня минимальной достоверности, скорость выполнения алгортима примерно одинакова при различных показателях поддержки. Исходя из графиков зависимости количества наборов от минимильной достоверности, можно сказать, что количество найденных набор обратно пропорцианально уровню минимальной поддержки."
      ],
      "metadata": {
        "id": "MfiklVmLspYD"
      }
    },
    {
      "cell_type": "code",
      "source": [
        ""
      ],
      "metadata": {
        "id": "jPKe75FxuTgL"
      },
      "execution_count": null,
      "outputs": []
    }
  ]
}